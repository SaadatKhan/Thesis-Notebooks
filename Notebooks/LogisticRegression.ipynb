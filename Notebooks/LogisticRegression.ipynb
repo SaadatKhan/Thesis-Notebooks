{
 "cells": [
  {
   "cell_type": "markdown",
   "metadata": {},
   "source": [
    "# Logistic Regression implementation "
   ]
  },
  {
   "cell_type": "code",
   "execution_count": 1,
   "metadata": {},
   "outputs": [],
   "source": [
    "import pandas as pd # data processing, CSV file I/O (e.g. pd.read_csv)\n",
    "import warnings\n",
    "import matplotlib.pyplot as plt\n",
    "warnings.filterwarnings('ignore')\n"
   ]
  },
  {
   "cell_type": "markdown",
   "metadata": {},
   "source": [
    "The dataset has already been analysed and preprocessed. Hence some columns are dropped and some are taken with special consideration. But all of these are studied and logical. If the look abtruse, read the documentation. \n"
   ]
  },
  {
   "cell_type": "code",
   "execution_count": 2,
   "metadata": {},
   "outputs": [
    {
     "name": "stdout",
     "output_type": "stream",
     "text": [
      "Dataset Lenght:  81002\n",
      "Dataset Shape:  (81002, 6)\n",
      "Dataset Lenght:  78854\n",
      "Dataset Shape:  (78854, 5)\n"
     ]
    }
   ],
   "source": [
    "dataset = pd.read_csv('Dataset With IDNumbers And Output with Result.csv')\n",
    "dataset1=dataset.drop_duplicates()\n",
    "dataset1.drop(['Controller ID'], axis=1)\n",
    "del dataset1['Controller ID']\n",
    "print (\"Dataset Lenght: \", len(dataset)) \n",
    "print (\"Dataset Shape: \", dataset.shape) \n",
    "print (\"Dataset Lenght: \", len(dataset1)) \n",
    "print (\"Dataset Shape: \", dataset1.shape) \n",
    "x = dataset1.iloc[:,0:4].values\n",
    "y= dataset1.iloc[:,4].values"
   ]
  },
  {
   "cell_type": "markdown",
   "metadata": {},
   "source": [
    "Using SCIKIT Learn to implement Logistic Regression. \n"
   ]
  },
  {
   "cell_type": "code",
   "execution_count": 8,
   "metadata": {},
   "outputs": [
    {
     "data": {
      "text/plain": [
       "LogisticRegression(C=14500, class_weight=None, dual=False, fit_intercept=True,\n",
       "                   intercept_scaling=1, l1_ratio=None, max_iter=100,\n",
       "                   multi_class='auto', n_jobs=None, penalty='l2',\n",
       "                   random_state=0, solver='lbfgs', tol=0.0001, verbose=0,\n",
       "                   warm_start=False)"
      ]
     },
     "execution_count": 8,
     "metadata": {},
     "output_type": "execute_result"
    }
   ],
   "source": [
    "from sklearn.model_selection import train_test_split  \n",
    "x_train,x_test,y_train,y_test = train_test_split(x,y,test_size=0.2,random_state=0)\n",
    "# Feature scaling\n",
    "from sklearn.preprocessing import StandardScaler\n",
    "sc = StandardScaler()\n",
    "\n",
    "x_train = sc.fit_transform(x_train)\n",
    "x_test = sc.fit_transform(x_test)\n",
    "\n",
    "from sklearn.linear_model import LogisticRegression\n",
    "classifier = LogisticRegression(C=14500,random_state = 0)\n",
    "# Regularisation Paramaeter hase been varied for variance in results.\n",
    "classifier.fit(x_train,y_train)\n",
    "\n",
    "\n"
   ]
  },
  {
   "cell_type": "markdown",
   "metadata": {},
   "source": [
    "### Varying accuracy by varying the regularisation Parameter of\n"
   ]
  },
  {
   "cell_type": "code",
   "execution_count": 10,
   "metadata": {},
   "outputs": [
    {
     "data": {
      "text/plain": [
       "([<matplotlib.axis.XTick at 0x20043a97a48>,\n",
       "  <matplotlib.axis.XTick at 0x200439f5408>,\n",
       "  <matplotlib.axis.XTick at 0x20043db53c8>],\n",
       " <a list of 3 Text xticklabel objects>)"
      ]
     },
     "execution_count": 10,
     "metadata": {},
     "output_type": "execute_result"
    },
    {
     "data": {
      "image/png": "[encoded data removed]",
      "text/plain": [
       "<Figure size 432x288 with 1 Axes>"
      ]
     },
     "metadata": {
      "needs_background": "light"
     },
     "output_type": "display_data"
    }
   ],
   "source": [
    "import numpy as np\n",
    "from sklearn.metrics import accuracy_score\n",
    "\n",
    "\n",
    "k_range = range(1,11)\n",
    "scores = []\n",
    "score_100=[]\n",
    "for k in k_range:\n",
    "    svclassifier = LogisticRegression(C= k)\n",
    "    svclassifier.fit(x_train, y_train)\n",
    "    scores.append(svclassifier.score(x_test,y_test))\n",
    "for items in scores:\n",
    "    score_100.append(items*100)\n",
    "    \n",
    "plt.figure()\n",
    "plt.xlabel('C')\n",
    "plt.ylabel('Accuracy')\n",
    "plt.plot(k_range,score_100,'--x',color='green')\n",
    "plt.xticks([1,5,10])\n"
   ]
  },
  {
   "cell_type": "markdown",
   "metadata": {},
   "source": [
    "Logistic Regression doesn't vary in perfomance when subject to change in the value of C - Inverse Regularisation Strength. Smaller values of C means stronger Regularisation. Higher means weaker Regularisation."
   ]
  }
 ],
 "metadata": {
  "kernelspec": {
   "display_name": "Python 3",
   "language": "python",
   "name": "python3"
  },
  "language_info": {
   "codemirror_mode": {
    "name": "ipython",
    "version": 3
   },
   "file_extension": ".py",
   "mimetype": "text/x-python",
   "name": "python",
   "nbconvert_exporter": "python",
   "pygments_lexer": "ipython3",
   "version": "3.7.6"
  }
 },
 "nbformat": 4,
 "nbformat_minor": 4
}
