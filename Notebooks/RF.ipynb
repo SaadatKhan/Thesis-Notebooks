{
 "cells": [
  {
   "cell_type": "markdown",
   "metadata": {},
   "source": [
    "# Random Forest Implementation \n"
   ]
  },
  {
   "cell_type": "code",
   "execution_count": null,
   "metadata": {},
   "outputs": [],
   "source": [
    "import pandas as pd # data processing, CSV file I/O (e.g. pd.read_csv)\n",
    "import warnings\n",
    "import matplotlib.pyplot as plt\n",
    "warnings.filterwarnings('ignore')\n"
   ]
  },
  {
   "cell_type": "code",
   "execution_count": null,
   "metadata": {},
   "outputs": [],
   "source": [
    "The dataset has already been analysed and preprocessed. Hence some columns are dropped and some are taken with special consideration. But all of these are studied and logical. If the look abtruse, read the documentation. "
   ]
  },
  {
   "cell_type": "code",
   "execution_count": 10,
   "metadata": {},
   "outputs": [
    {
     "name": "stdout",
     "output_type": "stream",
     "text": [
      "Dataset Lenght:  81002\n",
      "Dataset Shape:  (81002, 6)\n",
      "Dataset Lenght:  78854\n",
      "Dataset Shape:  (78854, 5)\n"
     ]
    }
   ],
   "source": [
    "dataset = pd.read_csv('Dataset With IDNumbers And Output with Result.csv')\n",
    "dataset1=dataset.drop_duplicates()\n",
    "dataset1.drop(['Controller ID'], axis=1)\n",
    "del dataset1['Controller ID']\n",
    "print (\"Dataset Lenght: \", len(dataset)) \n",
    "print (\"Dataset Shape: \", dataset.shape) \n",
    "print (\"Dataset Lenght: \", len(dataset1)) \n",
    "print (\"Dataset Shape: \", dataset1.shape) \n",
    "x = dataset1.iloc[:,0:4].values\n",
    "y= dataset1.iloc[:,4].values"
   ]
  },
  {
   "cell_type": "code",
   "execution_count": null,
   "metadata": {},
   "outputs": [],
   "source": [
    "Using ScikitLearn to import Random Forest Classifier and train/test split\n"
   ]
  },
  {
   "cell_type": "code",
   "execution_count": 4,
   "metadata": {},
   "outputs": [
    {
     "data": {
      "text/plain": [
       "RandomForestClassifier(bootstrap=True, ccp_alpha=0.0, class_weight=None,\n",
       "                       criterion='gini', max_depth=None, max_features=2,\n",
       "                       max_leaf_nodes=None, max_samples=None,\n",
       "                       min_impurity_decrease=0.0, min_impurity_split=None,\n",
       "                       min_samples_leaf=1, min_samples_split=2,\n",
       "                       min_weight_fraction_leaf=0.0, n_estimators=100,\n",
       "                       n_jobs=None, oob_score=False, random_state=0, verbose=0,\n",
       "                       warm_start=False)"
      ]
     },
     "execution_count": 4,
     "metadata": {},
     "output_type": "execute_result"
    }
   ],
   "source": [
    "from sklearn.model_selection import train_test_split  \n",
    "from sklearn.ensemble import RandomForestClassifier\n",
    "x_train,x_test,y_train,y_test = train_test_split(x,y,test_size=0.2,random_state=3)\n",
    "from sklearn.preprocessing import StandardScaler\n",
    "sc = StandardScaler()\n",
    "\n",
    "x_train = sc.fit_transform(x_train)\n",
    "x_test = sc.fit_transform(x_test)\n",
    "\n",
    "\n",
    "svclassifier = RandomForestClassifier(max_features=2,random_state=0)\n",
    "svclassifier.fit(x_train, y_train)\n"
   ]
  },
  {
   "cell_type": "code",
   "execution_count": 5,
   "metadata": {},
   "outputs": [],
   "source": [
    "y_pred = svclassifier.predict(x_test)\n",
    "from sklearn.metrics import classification_report, confusion_matrix"
   ]
  },
  {
   "cell_type": "markdown",
   "metadata": {},
   "source": [
    "To Plot the accuracy variance for different values of max features in ensembles"
   ]
  },
  {
   "cell_type": "code",
   "execution_count": 7,
   "metadata": {},
   "outputs": [
    {
     "data": {
      "text/plain": [
       "([<matplotlib.axis.XTick at 0x11df69432c8>,\n",
       "  <matplotlib.axis.XTick at 0x11df69476c8>,\n",
       "  <matplotlib.axis.XTick at 0x11df6834f88>,\n",
       "  <matplotlib.axis.XTick at 0x11df696f908>],\n",
       " <a list of 4 Text xticklabel objects>)"
      ]
     },
     "execution_count": 7,
     "metadata": {},
     "output_type": "execute_result"
    },
    {
     "data": {
      "image/png": "[encoded data removed]",
      "text/plain": [
       "<Figure size 432x288 with 1 Axes>"
      ]
     },
     "metadata": {
      "needs_background": "light"
     },
     "output_type": "display_data"
    }
   ],
   "source": [
    "k_range = range(1,5)\n",
    "scores = []\n",
    "score_100=[]\n",
    "for k in k_range:\n",
    "    svclassifier = RandomForestClassifier(max_features=k,random_state=0)\n",
    "    svclassifier.fit(x_train, y_train)\n",
    "    scores.append(svclassifier.score(x_test,y_test))\n",
    "for items in scores:\n",
    "    score_100.append(items*100)\n",
    "    \n",
    "plt.figure()\n",
    "plt.xlabel('Number of Features taken into account')\n",
    "plt.ylabel('Accuracy')\n",
    "plt.plot(k_range,score_100,'--x',color='orange')\n",
    "plt.xticks([1,2,3,4])"
   ]
  }
 ],
 "metadata": {
  "kernelspec": {
   "display_name": "Python 3",
   "language": "python",
   "name": "python3"
  },
  "language_info": {
   "codemirror_mode": {
    "name": "ipython",
    "version": 3
   },
   "file_extension": ".py",
   "mimetype": "text/x-python",
   "name": "python",
   "nbconvert_exporter": "python",
   "pygments_lexer": "ipython3",
   "version": "3.7.6"
  }
 },
 "nbformat": 4,
 "nbformat_minor": 4
}
