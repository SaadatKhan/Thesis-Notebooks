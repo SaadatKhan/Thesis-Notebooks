{
 "cells": [
  {
   "cell_type": "markdown",
   "metadata": {},
   "source": [
    "# Support Vector Machine Implementation \n"
   ]
  },
  {
   "cell_type": "code",
   "execution_count": 2,
   "metadata": {},
   "outputs": [],
   "source": [
    "import pandas as pd # data processing, CSV file I/O (e.g. pd.read_csv)\n",
    "import warnings\n",
    "import matplotlib.pyplot as plt\n",
    "warnings.filterwarnings('ignore')"
   ]
  },
  {
   "cell_type": "markdown",
   "metadata": {},
   "source": [
    "The dataset has already been analysed and preprocessed. Hence some columns are dropped and some are taken with special consideration. But all of these are studied and logical. If the look abtruse, read the documentation. \n"
   ]
  },
  {
   "cell_type": "code",
   "execution_count": 3,
   "metadata": {},
   "outputs": [
    {
     "name": "stdout",
     "output_type": "stream",
     "text": [
      "Dataset Lenght:  81002\n",
      "Dataset Shape:  (81002, 6)\n",
      "Dataset Lenght:  78854\n",
      "Dataset Shape:  (78854, 5)\n"
     ]
    }
   ],
   "source": [
    "dataset = pd.read_csv('Dataset With IDNumbers And Output with Result.csv')\n",
    "dataset1=dataset.drop_duplicates()\n",
    "dataset1.drop(['Controller ID'], axis=1)\n",
    "del dataset1['Controller ID']\n",
    "print (\"Dataset Lenght: \", len(dataset)) \n",
    "print (\"Dataset Shape: \", dataset.shape) \n",
    "print (\"Dataset Lenght: \", len(dataset1)) \n",
    "print (\"Dataset Shape: \", dataset1.shape) \n",
    "x = dataset1.iloc[:,0:4].values\n",
    "y= dataset1.iloc[:,4].values"
   ]
  },
  {
   "cell_type": "markdown",
   "metadata": {},
   "source": [
    "Using ScikitLearn to import SVC Classifier and train/test split\n"
   ]
  },
  {
   "cell_type": "code",
   "execution_count": 4,
   "metadata": {},
   "outputs": [],
   "source": [
    "from sklearn.model_selection import train_test_split  \n",
    "x_train,x_test,y_train,y_test = train_test_split(x,y,test_size=0.2,random_state=0)\n",
    "from sklearn.preprocessing import StandardScaler\n",
    "sc = StandardScaler()\n",
    "\n",
    "x_train = sc.fit_transform(x_train)\n",
    "x_test = sc.fit_transform(x_test)\n",
    "\n",
    "from sklearn.svm import SVC\n",
    "svclassifier = SVC(kernel='rbf', C=1).fit(x_train, y_train)\n"
   ]
  },
  {
   "cell_type": "markdown",
   "metadata": {},
   "source": [
    "To Plot the accuracy variance for different kernels in SVM"
   ]
  },
  {
   "cell_type": "code",
   "execution_count": 5,
   "metadata": {},
   "outputs": [
    {
     "data": {
      "image/png": "[encoded data removed]",
      "text/plain": [
       "<Figure size 432x288 with 1 Axes>"
      ]
     },
     "metadata": {
      "needs_background": "light"
     },
     "output_type": "display_data"
    },
    {
     "name": "stdout",
     "output_type": "stream",
     "text": [
      "[87.470674021939, 88.04134170312598, 88.41544607190413, 88.6056686322998, 88.70077991249762, 88.7641874326295, 88.8846617208801, 88.9353877369856, 89.03049901718344, 89.09390653731532]\n"
     ]
    }
   ],
   "source": [
    "kernels=['linear', 'poly', 'rbf','sigmoid']\n",
    "\n",
    "\n",
    "k_range = range(1,11)\n",
    "scores = []\n",
    "score_100=[]\n",
    "for k in k_range:\n",
    "    svclassifier = SVC(kernel='rbf', C=k).fit(x_train, y_train)\n",
    "    svclassifier.fit(x_train, y_train)\n",
    "    scores.append(svclassifier.score(x_test,y_test))\n",
    "for items in scores:\n",
    "    score_100.append(items*100)\n",
    "    \n",
    "plt.figure()\n",
    "plt.xlabel('C')\n",
    "plt.ylabel('Accuracy')\n",
    "plt.plot(k_range,score_100,'-x',color='black')\n",
    "plt.show()\n",
    "print(score_100)\n"
   ]
  }
 ],
 "metadata": {
  "kernelspec": {
   "display_name": "Python 3",
   "language": "python",
   "name": "python3"
  },
  "language_info": {
   "codemirror_mode": {
    "name": "ipython",
    "version": 3
   },
   "file_extension": ".py",
   "mimetype": "text/x-python",
   "name": "python",
   "nbconvert_exporter": "python",
   "pygments_lexer": "ipython3",
   "version": "3.7.6"
  }
 },
 "nbformat": 4,
 "nbformat_minor": 4
}
